{
 "cells": [
  {
   "cell_type": "markdown",
   "metadata": {},
   "source": [
    "# The Battle of the Neighbourhoods - Week 1"
   ]
  },
  {
   "cell_type": "markdown",
   "metadata": {},
   "source": [
    "## Background and Business Problem:"
   ]
  },
  {
   "cell_type": "markdown",
   "metadata": {},
   "source": [
    "## Background:"
   ]
  },
  {
   "cell_type": "markdown",
   "metadata": {},
   "source": [
    "The City of London is the most populous city in the UK, as well as being the capital. It is well known for being a cultural melting pot and is also a global financial hub. It's a major centre in the UK for everything from theater and the arts to media and tourism."
   ]
  },
  {
   "cell_type": "markdown",
   "metadata": {},
   "source": [
    "As a result, markets are fiercely competitive. The fact that London is so highly developed means that the cost of doing business will be huge. This means that any new ventures would need to be planned carefully. Using data analysis to derive insights will help to give a good understanding of the current business outlook, which is helpful in targeting the market, reducing risk and giving a good return on investment."
   ]
  },
  {
   "cell_type": "markdown",
   "metadata": {},
   "source": [
    "## Description:"
   ]
  },
  {
   "cell_type": "markdown",
   "metadata": {},
   "source": [
    "London is famous for its range of cuisines, influenced by the history of immigration to the city. Whether it be Italian, Indian, Middle Eastern, Oriental, British or another cuisine, London will most probably have it. "
   ]
  },
  {
   "cell_type": "markdown",
   "metadata": {},
   "source": [
    "Therefore, in order to be able to face up to the competition, a range of factors would need to be looked at in order to find a suitable location for a restaurant, such as:\n",
    "\n",
    "    1) Population\n",
    "    2) Demographics\n",
    "    3) Competitors in the area\n",
    "    4) Are there venues nearby such as cinemas, theatres, parks etc?\n",
    "    5) Are there markets nearby from which fresh produce can be bought in order to maintain quality and keep costs low?\n",
    "    The list goes on.....\n",
    "\n",
    "X Enterprises needs to select the appropriate location to open up its first restaurant. If it ends up being a success, then they can build from there, therefore choosing the right location is vital.    "
   ]
  },
  {
   "cell_type": "markdown",
   "metadata": {},
   "source": [
    "## Target Audience\n",
    "\n",
    "In order to recommend the location, X Enterprises has chosen me to lead a team of data scientists, with the objective being to locate and recommend the neighbourhood that will be the best location to open up a restaurant to the management team, as well as proving the rationale behind the final choice.\n",
    "\n",
    "This will be of interest to anyone who's looking to open a restaurant in London, because at the end of the day, the aim of opening a restaurant is to achieve profitability, and without taking into account the location of a restaurant, you're throwing away an inredibly valuable opportunity."
   ]
  },
  {
   "cell_type": "markdown",
   "metadata": {},
   "source": []
  }
 ],
 "metadata": {
  "kernelspec": {
   "display_name": "Python",
   "language": "python",
   "name": "conda-env-python-py"
  },
  "language_info": {
   "codemirror_mode": {
    "name": "ipython",
    "version": 3
   },
   "file_extension": ".py",
   "mimetype": "text/x-python",
   "name": "python",
   "nbconvert_exporter": "python",
   "pygments_lexer": "ipython3",
   "version": "3.6.10"
  }
 },
 "nbformat": 4,
 "nbformat_minor": 4
}
