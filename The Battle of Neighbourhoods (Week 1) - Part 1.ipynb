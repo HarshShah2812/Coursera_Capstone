{
 "cells": [
  {
   "cell_type": "markdown",
   "metadata": {},
   "source": [
    "# The Battle of the Neighbourhoods - Week 1"
   ]
  },
  {
   "cell_type": "markdown",
   "metadata": {},
   "source": [
    "## Description of the Business Problem:"
   ]
  },
  {
   "cell_type": "markdown",
   "metadata": {},
   "source": [
    "In London, there are numerous boroughs. The city is famous for its many touristic spots and is one of the most visited cities on the planet. In addition to tourists, many students come to London in order to study at university. As well as this, many people come for short term stays for e.g. internships, as well as for graduate programs. Therefore, finding a good place to stay is very important, somewhere that has local access to shops and supermarkets, as well as restaurants, bars ana number of other facilities."
   ]
  },
  {
   "cell_type": "markdown",
   "metadata": {},
   "source": [
    "HS is moving to London in order to study at University College London. In addition to university life, HS also wants to get a feel of the city's culture, food etc. He's looking to live in a neighbourhood that is culturally vibrant but not too touristy, as he feels that he can visit tourist sites in his spare time, therefore the proximity of tourist attractions is not something that matters to him. "
   ]
  },
  {
   "cell_type": "markdown",
   "metadata": {},
   "source": [
    "From the perspective of students, many factors are involved when searching for the best accommodation, which includes distance and rent. However, this project will focus on the general atmosphere of different areas of London as well as safety."
   ]
  },
  {
   "cell_type": "markdown",
   "metadata": {},
   "source": [
    "The research carried out is expected to be of benefit to international students looking to live in London, because despite the opportunity to explore the local culture, they would very likely want to feel at home at the same time."
   ]
  },
  {
   "cell_type": "code",
   "execution_count": null,
   "metadata": {},
   "outputs": [],
   "source": []
  }
 ],
 "metadata": {
  "kernelspec": {
   "display_name": "Python",
   "language": "python",
   "name": "conda-env-python-py"
  },
  "language_info": {
   "codemirror_mode": {
    "name": "ipython",
    "version": 3
   },
   "file_extension": ".py",
   "mimetype": "text/x-python",
   "name": "python",
   "nbconvert_exporter": "python",
   "pygments_lexer": "ipython3",
   "version": "3.6.10"
  }
 },
 "nbformat": 4,
 "nbformat_minor": 4
}
